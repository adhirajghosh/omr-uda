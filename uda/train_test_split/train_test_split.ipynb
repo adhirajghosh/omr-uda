{
 "cells": [
  {
   "cell_type": "code",
   "execution_count": 1,
   "id": "1a7339b7",
   "metadata": {},
   "outputs": [],
   "source": [
    "import os\n",
    "import numpy as np\n",
    "import random"
   ]
  },
  {
   "cell_type": "code",
   "execution_count": 2,
   "id": "5be7a64b",
   "metadata": {},
   "outputs": [],
   "source": [
    "p = '../images/'"
   ]
  },
  {
   "cell_type": "code",
   "execution_count": 3,
   "id": "6c6051aa",
   "metadata": {},
   "outputs": [
    {
     "data": {
      "text/plain": [
       "['clean_scans',\n",
       " 'handwritten_slightly_messy',\n",
       " 'handwritten_slightly_messy_landscape',\n",
       " 'handwritten_messy',\n",
       " 'yellowed_special_heads',\n",
       " 'yellowed_clean',\n",
       " 'handwritten_clean',\n",
       " 'yellowed',\n",
       " 'yellowed_stained',\n",
       " 'warped',\n",
       " 'handwritten_messy_landscape',\n",
       " 'faded',\n",
       " 'yellowed_warped']"
      ]
     },
     "execution_count": 3,
     "metadata": {},
     "output_type": "execute_result"
    }
   ],
   "source": [
    "os.listdir(p)"
   ]
  },
  {
   "cell_type": "code",
   "execution_count": 4,
   "id": "4dcfcb00",
   "metadata": {},
   "outputs": [
    {
     "name": "stdout",
     "output_type": "stream",
     "text": [
      "IMSLP561627-PMLP27823-Mendelssohn_-_Elias_-Introduction-No.9-.pdf0001-009 (Kopie).png\n",
      "IMSLP561627-PMLP27823-Mendelssohn_-_Elias_-Introduction-No.9-.pdf0001-054 (Kopie).png\n",
      "IMSLP561628-PMLP27823-Mendelssohn_-_Elias_-No.10-No.20-.pdf0001-088 (Kopie).png\n",
      "IMSLP561627-PMLP27823-Mendelssohn_-_Elias_-Introduction-No.9-.pdf0001-090 (Kopie).png\n",
      "IMSLP561628-PMLP27823-Mendelssohn_-_Elias_-No.10-No.20-.pdf0001-019 (Kopie).png\n",
      "IMSLP561627-PMLP27823-Mendelssohn_-_Elias_-Introduction-No.9-.pdf0001-013 (Kopie).png\n",
      "IMSLP561627-PMLP27823-Mendelssohn_-_Elias_-Introduction-No.9-.pdf0001-087 (Kopie).png\n",
      "IMSLP561627-PMLP27823-Mendelssohn_-_Elias_-Introduction-No.9-.pdf0001-052 (Kopie).png\n",
      "IMSLP561627-PMLP27823-Mendelssohn_-_Elias_-Introduction-No.9-.pdf0001-094 (Kopie).png\n",
      "IMSLP561627-PMLP27823-Mendelssohn_-_Elias_-Introduction-No.9-.pdf0001-017 (Kopie).png\n",
      "IMSLP561628-PMLP27823-Mendelssohn_-_Elias_-No.10-No.20-.pdf0001-014 (Kopie).png\n",
      "IMSLP561627-PMLP27823-Mendelssohn_-_Elias_-Introduction-No.9-.pdf0001-053 (Kopie).png\n",
      "IMSLP561627-PMLP27823-Mendelssohn_-_Elias_-Introduction-No.9-.pdf0001-051 (Kopie).png\n",
      "IMSLP561628-PMLP27823-Mendelssohn_-_Elias_-No.10-No.20-.pdf0001-013 (Kopie).png\n",
      "IMSLP561627-PMLP27823-Mendelssohn_-_Elias_-Introduction-No.9-.pdf0001-104 (Kopie).png\n",
      "IMSLP561628-PMLP27823-Mendelssohn_-_Elias_-No.10-No.20-.pdf0001-017 (Kopie).png\n",
      "IMSLP561627-PMLP27823-Mendelssohn_-_Elias_-Introduction-No.9-.pdf0001-014 (Kopie).png\n",
      "IMSLP561627-PMLP27823-Mendelssohn_-_Elias_-Introduction-No.9-.pdf0001-059 (Kopie).png\n",
      "IMSLP561627-PMLP27823-Mendelssohn_-_Elias_-Introduction-No.9-.pdf0001-106 (Kopie).png\n",
      "IMSLP561628-PMLP27823-Mendelssohn_-_Elias_-No.10-No.20-.pdf0001-092 (Kopie).png\n",
      "IMSLP561627-PMLP27823-Mendelssohn_-_Elias_-Introduction-No.9-.pdf0001-018 (Kopie).png\n",
      "IMSLP561628-PMLP27823-Mendelssohn_-_Elias_-No.10-No.20-.pdf0001-018 (Kopie).png\n",
      "IMSLP561628-PMLP27823-Mendelssohn_-_Elias_-No.10-No.20-.pdf0001-093 (Kopie).png\n",
      "IMSLP561628-PMLP27823-Mendelssohn_-_Elias_-No.10-No.20-.pdf0001-011 (Kopie).png\n",
      "IMSLP561627-PMLP27823-Mendelssohn_-_Elias_-Introduction-No.9-.pdf0001-012 (Kopie).png\n",
      "IMSLP561627-PMLP27823-Mendelssohn_-_Elias_-Introduction-No.9-.pdf0001-096 (Kopie).png\n",
      "IMSLP561627-PMLP27823-Mendelssohn_-_Elias_-Introduction-No.9-.pdf0001-089 (Kopie).png\n",
      "IMSLP561628-PMLP27823-Mendelssohn_-_Elias_-No.10-No.20-.pdf0001-046 (Kopie).png\n",
      "IMSLP561628-PMLP27823-Mendelssohn_-_Elias_-No.10-No.20-.pdf0001-054 (Kopie).png\n",
      "IMSLP561627-PMLP27823-Mendelssohn_-_Elias_-Introduction-No.9-.pdf0001-074 (Kopie).png\n",
      "IMSLP561628-PMLP27823-Mendelssohn_-_Elias_-No.10-No.20-.pdf0001-086 (Kopie).png\n",
      "IMSLP561628-PMLP27823-Mendelssohn_-_Elias_-No.10-No.20-.pdf0001-073 (Kopie).png\n",
      "IMSLP561627-PMLP27823-Mendelssohn_-_Elias_-Introduction-No.9-.pdf0001-033 (Kopie).png\n",
      "IMSLP561628-PMLP27823-Mendelssohn_-_Elias_-No.10-No.20-.pdf0001-032 (Kopie).png\n",
      "IMSLP561627-PMLP27823-Mendelssohn_-_Elias_-Introduction-No.9-.pdf0001-026 (Kopie).png\n",
      "IMSLP561627-PMLP27823-Mendelssohn_-_Elias_-Introduction-No.9-.pdf0001-092 (Kopie).png\n",
      "IMSLP561628-PMLP27823-Mendelssohn_-_Elias_-No.10-No.20-.pdf0001-078 (Kopie).png\n",
      "IMSLP561627-PMLP27823-Mendelssohn_-_Elias_-Introduction-No.9-.pdf0001-048 (Kopie).png\n",
      "IMSLP561627-PMLP27823-Mendelssohn_-_Elias_-Introduction-No.9-.pdf0001-065 (Kopie).png\n",
      "IMSLP561628-PMLP27823-Mendelssohn_-_Elias_-No.10-No.20-.pdf0001-067 (Kopie).png\n",
      "IMSLP561627-PMLP27823-Mendelssohn_-_Elias_-Introduction-No.9-.pdf0001-084 (Kopie).png\n",
      "IMSLP561628-PMLP27823-Mendelssohn_-_Elias_-No.10-No.20-.pdf0001-024 (Kopie).png\n",
      "IMSLP561627-PMLP27823-Mendelssohn_-_Elias_-Introduction-No.9-.pdf0001-071 (Kopie).png\n",
      "IMSLP561628-PMLP27823-Mendelssohn_-_Elias_-No.10-No.20-.pdf0001-084 (Kopie).png\n",
      "IMSLP561627-PMLP27823-Mendelssohn_-_Elias_-Introduction-No.9-.pdf0001-061 (Kopie).png\n",
      "IMSLP561627-PMLP27823-Mendelssohn_-_Elias_-Introduction-No.9-.pdf0001-027 (Kopie).png\n",
      "IMSLP561628-PMLP27823-Mendelssohn_-_Elias_-No.10-No.20-.pdf0001-058 (Kopie).png\n",
      "IMSLP561628-PMLP27823-Mendelssohn_-_Elias_-No.10-No.20-.pdf0001-085 (Kopie).png\n",
      "IMSLP561628-PMLP27823-Mendelssohn_-_Elias_-No.10-No.20-.pdf0001-065 (Kopie).png\n",
      "IMSLP561628-PMLP27823-Mendelssohn_-_Elias_-No.10-No.20-.pdf0001-055 (Kopie).png\n",
      "IMSLP561628-PMLP27823-Mendelssohn_-_Elias_-No.10-No.20-.pdf0001-076 (Kopie).png\n",
      "IMSLP561627-PMLP27823-Mendelssohn_-_Elias_-Introduction-No.9-.pdf0001-043 (Kopie).png\n",
      "IMSLP561628-PMLP27823-Mendelssohn_-_Elias_-No.10-No.20-.pdf0001-059 (Kopie).png\n",
      "IMSLP561628-PMLP27823-Mendelssohn_-_Elias_-No.10-No.20-.pdf0001-083 (Kopie).png\n",
      "IMSLP561628-PMLP27823-Mendelssohn_-_Elias_-No.10-No.20-.pdf0001-023 (Kopie).png\n",
      "IMSLP561627-PMLP27823-Mendelssohn_-_Elias_-Introduction-No.9-.pdf0001-041 (Kopie).png\n",
      "IMSLP561627-PMLP27823-Mendelssohn_-_Elias_-Introduction-No.9-.pdf0001-083 (Kopie).png\n",
      "IMSLP561627-PMLP27823-Mendelssohn_-_Elias_-Introduction-No.9-.pdf0001-073 (Kopie).png\n",
      "IMSLP561628-PMLP27823-Mendelssohn_-_Elias_-No.10-No.20-.pdf0001-070 (Kopie).png\n",
      "IMSLP561628-PMLP27823-Mendelssohn_-_Elias_-No.10-No.20-.pdf0001-062 (Kopie).png\n",
      "IMSLP561627-PMLP27823-Mendelssohn_-_Elias_-Introduction-No.9-.pdf0001-015 (Kopie).png\n",
      "IMSLP561627-PMLP27823-Mendelssohn_-_Elias_-Introduction-No.9-.pdf0001-081 (Kopie).png\n",
      "IMSLP561628-PMLP27823-Mendelssohn_-_Elias_-No.10-No.20-.pdf0001-044 (Kopie).png\n",
      "IMSLP561628-PMLP27823-Mendelssohn_-_Elias_-No.10-No.20-.pdf0001-022 (Kopie).png\n",
      "IMSLP561627-PMLP27823-Mendelssohn_-_Elias_-Introduction-No.9-.pdf0001-047 (Kopie).png\n",
      "IMSLP561628-PMLP27823-Mendelssohn_-_Elias_-No.10-No.20-.pdf0001-028 (Kopie).png\n",
      "IMSLP561627-PMLP27823-Mendelssohn_-_Elias_-Introduction-No.9-.pdf0001-079 (Kopie).png\n",
      "IMSLP561627-PMLP27823-Mendelssohn_-_Elias_-Introduction-No.9-.pdf0001-029 (Kopie).png\n",
      "IMSLP561628-PMLP27823-Mendelssohn_-_Elias_-No.10-No.20-.pdf0001-087 (Kopie).png\n",
      "IMSLP561627-PMLP27823-Mendelssohn_-_Elias_-Introduction-No.9-.pdf0001-030 (Kopie).png\n",
      "IMSLP561628-PMLP27823-Mendelssohn_-_Elias_-No.10-No.20-.pdf0001-090 (Kopie).png\n",
      "IMSLP561628-PMLP27823-Mendelssohn_-_Elias_-No.10-No.20-.pdf0001-036 (Kopie).png\n",
      "IMSLP561628-PMLP27823-Mendelssohn_-_Elias_-No.10-No.20-.pdf0001-005 (Kopie).png\n",
      "IMSLP561628-PMLP27823-Mendelssohn_-_Elias_-No.10-No.20-.pdf0001-063 (Kopie).png\n",
      "IMSLP561628-PMLP27823-Mendelssohn_-_Elias_-No.10-No.20-.pdf0001-056 (Kopie).png\n",
      "IMSLP561627-PMLP27823-Mendelssohn_-_Elias_-Introduction-No.9-.pdf0001-080 (Kopie).png\n",
      "IMSLP561627-PMLP27823-Mendelssohn_-_Elias_-Introduction-No.9-.pdf0001-056 (Kopie).png\n",
      "IMSLP561628-PMLP27823-Mendelssohn_-_Elias_-No.10-No.20-.pdf0001-010 (Kopie).png\n",
      "IMSLP561628-PMLP27823-Mendelssohn_-_Elias_-No.10-No.20-.pdf0001-042 (Kopie).png\n",
      "IMSLP561628-PMLP27823-Mendelssohn_-_Elias_-No.10-No.20-.pdf0001-091 (Kopie).png\n",
      "IMSLP561627-PMLP27823-Mendelssohn_-_Elias_-Introduction-No.9-.pdf0001-044 (Kopie).png\n",
      "IMSLP561628-PMLP27823-Mendelssohn_-_Elias_-No.10-No.20-.pdf0001-027 (Kopie).png\n",
      "IMSLP561627-PMLP27823-Mendelssohn_-_Elias_-Introduction-No.9-.pdf0001-098 (Kopie).png\n",
      "IMSLP561627-PMLP27823-Mendelssohn_-_Elias_-Introduction-No.9-.pdf0001-057 (Kopie).png\n",
      "IMSLP561627-PMLP27823-Mendelssohn_-_Elias_-Introduction-No.9-.pdf0001-072 (Kopie).png\n",
      "IMSLP561628-PMLP27823-Mendelssohn_-_Elias_-No.10-No.20-.pdf0001-002 (Kopie).png\n",
      "IMSLP561627-PMLP27823-Mendelssohn_-_Elias_-Introduction-No.9-.pdf0001-020 (Kopie).png\n",
      "IMSLP561628-PMLP27823-Mendelssohn_-_Elias_-No.10-No.20-.pdf0001-035 (Kopie).png\n",
      "IMSLP561628-PMLP27823-Mendelssohn_-_Elias_-No.10-No.20-.pdf0001-030 (Kopie).png\n",
      "IMSLP561628-PMLP27823-Mendelssohn_-_Elias_-No.10-No.20-.pdf0001-039 (Kopie).png\n",
      "IMSLP561627-PMLP27823-Mendelssohn_-_Elias_-Introduction-No.9-.pdf0001-105 (Kopie).png\n",
      "IMSLP561628-PMLP27823-Mendelssohn_-_Elias_-No.10-No.20-.pdf0001-037 (Kopie).png\n",
      "IMSLP561628-PMLP27823-Mendelssohn_-_Elias_-No.10-No.20-.pdf0001-075 (Kopie).png\n",
      "IMSLP561627-PMLP27823-Mendelssohn_-_Elias_-Introduction-No.9-.pdf0001-076 (Kopie).png\n",
      "IMSLP561627-PMLP27823-Mendelssohn_-_Elias_-Introduction-No.9-.pdf0001-103 (Kopie).png\n",
      "IMSLP561628-PMLP27823-Mendelssohn_-_Elias_-No.10-No.20-.pdf0001-079 (Kopie).png\n",
      "IMSLP561628-PMLP27823-Mendelssohn_-_Elias_-No.10-No.20-.pdf0001-082 (Kopie).png\n",
      "IMSLP561628-PMLP27823-Mendelssohn_-_Elias_-No.10-No.20-.pdf0001-068 (Kopie).png\n",
      "IMSLP561627-PMLP27823-Mendelssohn_-_Elias_-Introduction-No.9-.pdf0001-037 (Kopie).png\n",
      "IMSLP561627-PMLP27823-Mendelssohn_-_Elias_-Introduction-No.9-.pdf0001-067 (Kopie).png\n",
      "IMSLP561628-PMLP27823-Mendelssohn_-_Elias_-No.10-No.20-.pdf0001-016 (Kopie).png\n",
      "IMSLP561627-PMLP27823-Mendelssohn_-_Elias_-Introduction-No.9-.pdf0001-064 (Kopie).png\n",
      "IMSLP561628-PMLP27823-Mendelssohn_-_Elias_-No.10-No.20-.pdf0001-069 (Kopie).png\n",
      "IMSLP561628-PMLP27823-Mendelssohn_-_Elias_-No.10-No.20-.pdf0001-048 (Kopie).png\n",
      "IMSLP561627-PMLP27823-Mendelssohn_-_Elias_-Introduction-No.9-.pdf0001-016 (Kopie).png\n",
      "IMSLP561628-PMLP27823-Mendelssohn_-_Elias_-No.10-No.20-.pdf0001-057 (Kopie).png\n",
      "IMSLP561627-PMLP27823-Mendelssohn_-_Elias_-Introduction-No.9-.pdf0001-100 (Kopie).png\n",
      "IMSLP561628-PMLP27823-Mendelssohn_-_Elias_-No.10-No.20-.pdf0001-034 (Kopie).png\n",
      "IMSLP561628-PMLP27823-Mendelssohn_-_Elias_-No.10-No.20-.pdf0001-074 (Kopie).png\n",
      "IMSLP561627-PMLP27823-Mendelssohn_-_Elias_-Introduction-No.9-.pdf0001-025 (Kopie).png\n",
      "IMSLP561627-PMLP27823-Mendelssohn_-_Elias_-Introduction-No.9-.pdf0001-060 (Kopie).png\n",
      "IMSLP561627-PMLP27823-Mendelssohn_-_Elias_-Introduction-No.9-.pdf0001-040 (Kopie).png\n",
      "IMSLP561628-PMLP27823-Mendelssohn_-_Elias_-No.10-No.20-.pdf0001-029 (Kopie).png\n",
      "IMSLP561628-PMLP27823-Mendelssohn_-_Elias_-No.10-No.20-.pdf0001-038 (Kopie).png\n",
      "IMSLP561627-PMLP27823-Mendelssohn_-_Elias_-Introduction-No.9-.pdf0001-078 (Kopie).png\n",
      "IMSLP561627-PMLP27823-Mendelssohn_-_Elias_-Introduction-No.9-.pdf0001-077 (Kopie).png\n",
      "IMSLP561628-PMLP27823-Mendelssohn_-_Elias_-No.10-No.20-.pdf0001-025 (Kopie).png\n",
      "IMSLP561628-PMLP27823-Mendelssohn_-_Elias_-No.10-No.20-.pdf0001-066 (Kopie).png\n",
      "IMSLP561627-PMLP27823-Mendelssohn_-_Elias_-Introduction-No.9-.pdf0001-024 (Kopie).png\n",
      "IMSLP561627-PMLP27823-Mendelssohn_-_Elias_-Introduction-No.9-.pdf0001-022 (Kopie).png\n",
      "IMSLP561628-PMLP27823-Mendelssohn_-_Elias_-No.10-No.20-.pdf0001-052 (Kopie).png\n",
      "IMSLP561627-PMLP27823-Mendelssohn_-_Elias_-Introduction-No.9-.pdf0001-007 (Kopie).png\n",
      "IMSLP561627-PMLP27823-Mendelssohn_-_Elias_-Introduction-No.9-.pdf0001-019 (Kopie).png\n",
      "IMSLP561628-PMLP27823-Mendelssohn_-_Elias_-No.10-No.20-.pdf0001-047 (Kopie).png\n",
      "IMSLP561628-PMLP27823-Mendelssohn_-_Elias_-No.10-No.20-.pdf0001-033 (Kopie).png\n",
      "IMSLP561627-PMLP27823-Mendelssohn_-_Elias_-Introduction-No.9-.pdf0001-045 (Kopie).png\n",
      "IMSLP561627-PMLP27823-Mendelssohn_-_Elias_-Introduction-No.9-.pdf0001-091 (Kopie).png\n",
      "IMSLP561627-PMLP27823-Mendelssohn_-_Elias_-Introduction-No.9-.pdf0001-088 (Kopie).png\n",
      "IMSLP561627-PMLP27823-Mendelssohn_-_Elias_-Introduction-No.9-.pdf0001-095 (Kopie).png\n",
      "IMSLP561628-PMLP27823-Mendelssohn_-_Elias_-No.10-No.20-.pdf0001-080 (Kopie).png\n",
      "IMSLP561627-PMLP27823-Mendelssohn_-_Elias_-Introduction-No.9-.pdf0001-101 (Kopie).png\n",
      "IMSLP561627-PMLP27823-Mendelssohn_-_Elias_-Introduction-No.9-.pdf0001-055 (Kopie).png\n",
      "IMSLP561628-PMLP27823-Mendelssohn_-_Elias_-No.10-No.20-.pdf0001-053 (Kopie).png\n",
      "IMSLP561627-PMLP27823-Mendelssohn_-_Elias_-Introduction-No.9-.pdf0001-035 (Kopie).png\n",
      "IMSLP561628-PMLP27823-Mendelssohn_-_Elias_-No.10-No.20-.pdf0001-041 (Kopie).png\n",
      "IMSLP561627-PMLP27823-Mendelssohn_-_Elias_-Introduction-No.9-.pdf0001-021 (Kopie).png\n",
      "IMSLP561627-PMLP27823-Mendelssohn_-_Elias_-Introduction-No.9-.pdf0001-008 (Kopie).png\n",
      "IMSLP561628-PMLP27823-Mendelssohn_-_Elias_-No.10-No.20-.pdf0001-021 (Kopie).png\n",
      "IMSLP561628-PMLP27823-Mendelssohn_-_Elias_-No.10-No.20-.pdf0001-031 (Kopie).png\n",
      "IMSLP561627-PMLP27823-Mendelssohn_-_Elias_-Introduction-No.9-.pdf0001-062 (Kopie).png\n",
      "IMSLP561627-PMLP27823-Mendelssohn_-_Elias_-Introduction-No.9-.pdf0001-038 (Kopie).png\n",
      "IMSLP561628-PMLP27823-Mendelssohn_-_Elias_-No.10-No.20-.pdf0001-009 (Kopie).png\n",
      "IMSLP561628-PMLP27823-Mendelssohn_-_Elias_-No.10-No.20-.pdf0001-071 (Kopie).png\n",
      "IMSLP561628-PMLP27823-Mendelssohn_-_Elias_-No.10-No.20-.pdf0001-003 (Kopie).png\n",
      "IMSLP561628-PMLP27823-Mendelssohn_-_Elias_-No.10-No.20-.pdf0001-007 (Kopie).png\n",
      "IMSLP561627-PMLP27823-Mendelssohn_-_Elias_-Introduction-No.9-.pdf0001-032 (Kopie).png\n",
      "IMSLP561627-PMLP27823-Mendelssohn_-_Elias_-Introduction-No.9-.pdf0001-010 (Kopie).png\n",
      "IMSLP561627-PMLP27823-Mendelssohn_-_Elias_-Introduction-No.9-.pdf0001-066 (Kopie).png\n",
      "IMSLP561627-PMLP27823-Mendelssohn_-_Elias_-Introduction-No.9-.pdf0001-063 (Kopie).png\n",
      "IMSLP561628-PMLP27823-Mendelssohn_-_Elias_-No.10-No.20-.pdf0001-072 (Kopie).png\n",
      "IMSLP561627-PMLP27823-Mendelssohn_-_Elias_-Introduction-No.9-.pdf0001-099 (Kopie).png\n",
      "IMSLP561628-PMLP27823-Mendelssohn_-_Elias_-No.10-No.20-.pdf0001-051 (Kopie).png\n",
      "IMSLP561627-PMLP27823-Mendelssohn_-_Elias_-Introduction-No.9-.pdf0001-075 (Kopie).png\n",
      "IMSLP561627-PMLP27823-Mendelssohn_-_Elias_-Introduction-No.9-.pdf0001-039 (Kopie).png\n",
      "IMSLP561627-PMLP27823-Mendelssohn_-_Elias_-Introduction-No.9-.pdf0001-070 (Kopie).png\n",
      "IMSLP561627-PMLP27823-Mendelssohn_-_Elias_-Introduction-No.9-.pdf0001-102 (Kopie).png\n",
      "IMSLP561627-PMLP27823-Mendelssohn_-_Elias_-Introduction-No.9-.pdf0001-011 (Kopie).png\n",
      "IMSLP561627-PMLP27823-Mendelssohn_-_Elias_-Introduction-No.9-.pdf0001-023 (Kopie).png\n",
      "IMSLP561628-PMLP27823-Mendelssohn_-_Elias_-No.10-No.20-.pdf0001-006 (Kopie).png\n",
      "IMSLP561628-PMLP27823-Mendelssohn_-_Elias_-No.10-No.20-.pdf0001-064 (Kopie).png\n",
      "IMSLP561628-PMLP27823-Mendelssohn_-_Elias_-No.10-No.20-.pdf0001-077 (Kopie).png\n",
      "IMSLP561628-PMLP27823-Mendelssohn_-_Elias_-No.10-No.20-.pdf0001-049 (Kopie).png\n",
      "IMSLP561628-PMLP27823-Mendelssohn_-_Elias_-No.10-No.20-.pdf0001-043 (Kopie).png\n",
      "IMSLP561628-PMLP27823-Mendelssohn_-_Elias_-No.10-No.20-.pdf0001-008 (Kopie).png\n",
      "IMSLP561627-PMLP27823-Mendelssohn_-_Elias_-Introduction-No.9-.pdf0001-093 (Kopie).png\n",
      "IMSLP561627-PMLP27823-Mendelssohn_-_Elias_-Introduction-No.9-.pdf0001-082 (Kopie).png\n",
      "IMSLP561628-PMLP27823-Mendelssohn_-_Elias_-No.10-No.20-.pdf0001-015 (Kopie).png\n",
      "IMSLP561628-PMLP27823-Mendelssohn_-_Elias_-No.10-No.20-.pdf0001-089 (Kopie).png\n",
      "IMSLP561627-PMLP27823-Mendelssohn_-_Elias_-Introduction-No.9-.pdf0001-036 (Kopie).png\n",
      "IMSLP561627-PMLP27823-Mendelssohn_-_Elias_-Introduction-No.9-.pdf0001-028 (Kopie).png\n",
      "IMSLP561627-PMLP27823-Mendelssohn_-_Elias_-Introduction-No.9-.pdf0001-034 (Kopie).png\n",
      "IMSLP561628-PMLP27823-Mendelssohn_-_Elias_-No.10-No.20-.pdf0001-026 (Kopie).png\n",
      "IMSLP561628-PMLP27823-Mendelssohn_-_Elias_-No.10-No.20-.pdf0001-020 (Kopie).png\n",
      "IMSLP561627-PMLP27823-Mendelssohn_-_Elias_-Introduction-No.9-.pdf0001-097 (Kopie).png\n",
      "IMSLP561627-PMLP27823-Mendelssohn_-_Elias_-Introduction-No.9-.pdf0001-042 (Kopie).png\n",
      "IMSLP561627-PMLP27823-Mendelssohn_-_Elias_-Introduction-No.9-.pdf0001-031 (Kopie).png\n",
      "IMSLP561628-PMLP27823-Mendelssohn_-_Elias_-No.10-No.20-.pdf0001-004 (Kopie).png\n",
      "IMSLP561628-PMLP27823-Mendelssohn_-_Elias_-No.10-No.20-.pdf0001-040 (Kopie).png\n",
      "IMSLP561627-PMLP27823-Mendelssohn_-_Elias_-Introduction-No.9-.pdf0001-085 (Kopie).png\n",
      "IMSLP561628-PMLP27823-Mendelssohn_-_Elias_-No.10-No.20-.pdf0001-001 (Kopie).png\n",
      "IMSLP561628-PMLP27823-Mendelssohn_-_Elias_-No.10-No.20-.pdf0001-050 (Kopie).png\n",
      "IMSLP561627-PMLP27823-Mendelssohn_-_Elias_-Introduction-No.9-.pdf0001-058 (Kopie).png\n",
      "IMSLP561628-PMLP27823-Mendelssohn_-_Elias_-No.10-No.20-.pdf0001-012 (Kopie).png\n",
      "IMSLP561628-PMLP27823-Mendelssohn_-_Elias_-No.10-No.20-.pdf0001-081 (Kopie).png\n",
      "IMSLP561627-PMLP27823-Mendelssohn_-_Elias_-Introduction-No.9-.pdf0001-049 (Kopie).png\n",
      "IMSLP561628-PMLP27823-Mendelssohn_-_Elias_-No.10-No.20-.pdf0001-060 (Kopie).png\n",
      "IMSLP561628-PMLP27823-Mendelssohn_-_Elias_-No.10-No.20-.pdf0001-045 (Kopie).png\n",
      "IMSLP561627-PMLP27823-Mendelssohn_-_Elias_-Introduction-No.9-.pdf0001-086 (Kopie).png\n",
      "IMSLP561628-PMLP27823-Mendelssohn_-_Elias_-No.10-No.20-.pdf0001-061 (Kopie).png\n",
      "IMSLP561627-PMLP27823-Mendelssohn_-_Elias_-Introduction-No.9-.pdf0001-050 (Kopie).png\n"
     ]
    }
   ],
   "source": [
    "train = []\n",
    "test = []\n",
    "s = 0\n",
    "for i in os.listdir(p):\n",
    "    x = os.listdir(os.path.join(p,i))\n",
    "    y = random.sample(range(0, len(x)-1), int(0.3*len(x)))\n",
    "\n",
    "    for j in range(len(x)):\n",
    "        if j in y:\n",
    "            if 'Kopie' in x[j]:\n",
    "                print(x[j])\n",
    "            else:\n",
    "                train.append(i+'/'+x[j])\n",
    "        else:\n",
    "            if 'Kopie' in x[j]:\n",
    "                print(x[j])\n",
    "            else:\n",
    "                test.append(i+'/'+x[j])\n",
    "    "
   ]
  },
  {
   "cell_type": "code",
   "execution_count": 5,
   "id": "32a4c53d",
   "metadata": {},
   "outputs": [
    {
     "name": "stdout",
     "output_type": "stream",
     "text": [
      "2073\n",
      "4873\n"
     ]
    }
   ],
   "source": [
    "print(len(train))\n",
    "print(len(test))"
   ]
  },
  {
   "cell_type": "code",
   "execution_count": 6,
   "id": "826b2314",
   "metadata": {},
   "outputs": [],
   "source": [
    "textfile = open(\"train_list.txt\", \"w\")\n",
    "for element in train:\n",
    "    textfile.write(element+\"\\n\")\n",
    "textfile.close()"
   ]
  },
  {
   "cell_type": "code",
   "execution_count": 7,
   "id": "d638d62c",
   "metadata": {},
   "outputs": [],
   "source": [
    "textfile = open(\"test_list.txt\", \"w\")\n",
    "for element in test:\n",
    "    textfile.write(element + \"\\n\")\n",
    "textfile.close()"
   ]
  },
  {
   "cell_type": "code",
   "execution_count": 8,
   "id": "06242770",
   "metadata": {},
   "outputs": [],
   "source": [
    "train_copy = []\n",
    "test_copy = []\n",
    "\n",
    "for i in train:\n",
    "    if 'landscape' in i:\n",
    "        continue\n",
    "    else:\n",
    "        train_copy.append(i)\n",
    "for i in test:\n",
    "    if 'landscape' in i:\n",
    "        continue\n",
    "    else:\n",
    "        test_copy.append(i)\n",
    "textfile1 = open(\"train_list_no_landscape.txt\", \"w\")\n",
    "for element in train_copy:\n",
    "    textfile1.write(element + \"\\n\")\n",
    "textfile1.close()\n",
    "\n",
    "textfile2 = open(\"test_list_no_landscape.txt\", \"w\")\n",
    "for element in test_copy:\n",
    "    textfile2.write(element + \"\\n\")\n",
    "textfile2.close()"
   ]
  },
  {
   "cell_type": "code",
   "execution_count": 9,
   "id": "0d56a27e",
   "metadata": {},
   "outputs": [],
   "source": [
    "my_file = open(\"train_list.txt\", \"r\")"
   ]
  },
  {
   "cell_type": "code",
   "execution_count": 10,
   "id": "f6873f0b",
   "metadata": {},
   "outputs": [],
   "source": [
    "content_list = my_file.readlines()"
   ]
  },
  {
   "cell_type": "code",
   "execution_count": 11,
   "id": "4baa1e57",
   "metadata": {},
   "outputs": [
    {
     "data": {
      "text/plain": [
       "'clean_scans/IMSLP640519-PMLP1573-Jup_1_(etc).pdf0001-080.png'"
      ]
     },
     "execution_count": 11,
     "metadata": {},
     "output_type": "execute_result"
    }
   ],
   "source": [
    "content_list[0][:-1]"
   ]
  },
  {
   "cell_type": "code",
   "execution_count": null,
   "id": "a0c984cb",
   "metadata": {},
   "outputs": [],
   "source": []
  }
 ],
 "metadata": {
  "kernelspec": {
   "display_name": "Python 3 (ipykernel)",
   "language": "python",
   "name": "python3"
  },
  "language_info": {
   "codemirror_mode": {
    "name": "ipython",
    "version": 3
   },
   "file_extension": ".py",
   "mimetype": "text/x-python",
   "name": "python",
   "nbconvert_exporter": "python",
   "pygments_lexer": "ipython3",
   "version": "3.9.7"
  }
 },
 "nbformat": 4,
 "nbformat_minor": 5
}
